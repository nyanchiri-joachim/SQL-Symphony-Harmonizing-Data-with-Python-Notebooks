{
 "cells": [
  {
   "cell_type": "markdown",
   "metadata": {},
   "source": [
    "## Data anomalies_3NF_Exercise"
   ]
  },
  {
   "cell_type": "code",
   "execution_count": 3,
   "metadata": {},
   "outputs": [
    {
     "name": "stdout",
     "output_type": "stream",
     "text": [
      "The sql extension is already loaded. To reload it, use:\n",
      "  %reload_ext sql\n"
     ]
    }
   ],
   "source": [
    "# Load and activate the SQL extension to allow us to execute SQL in a Jupyter notebook.\n",
    "%load_ext sql"
   ]
  },
  {
   "cell_type": "code",
   "execution_count": 4,
   "metadata": {},
   "outputs": [
    {
     "data": {
      "text/plain": [
       "'Connected: @SoftDevEmployees.db'"
      ]
     },
     "execution_count": 4,
     "metadata": {},
     "output_type": "execute_result"
    }
   ],
   "source": [
    "## Load the SoftDevEmployees database stored in your local machine. \n",
    "# Make sure the file is saved in the same folder as this notebook.\n",
    "%sql sqlite:///SoftDevEmployees.db"
   ]
  },
  {
   "cell_type": "code",
   "execution_count": null,
   "metadata": {},
   "outputs": [],
   "source": [
    "%%sql\n",
    "\n",
    "DROP TABLE IF EXISTS Departments_3NF;\n",
    "DROP TABLE IF EXISTS Employee_Department_3NF;\n",
    "DROP TABLE IF EXISTS Employee_Role_3NF;\n",
    "DROP TABLE IF EXISTS Roles_3NF;\n",
    "DROP TABLE IF EXISTS Titles_3NF;\n",
    "\n",
    "CREATE TABLE Departments_3NF AS\n",
    "SELECT * FROM Departments_2NF;\n",
    "\n",
    "CREATE TABLE Employee_Department_3NF AS\n",
    "SELECT * FROM Employee_Department_2NF;\n",
    "\n",
    "CREATE TABLE Employee_Role_3NF AS\n",
    "SELECT * FROM Employee_Role_2NF;\n",
    "\n",
    "CREATE TABLE Roles_3NF AS\n",
    "SELECT * FROM Roles_2NF;\n",
    "\n",
    "CREATE TABLE Titles_3NF AS\n",
    "SELECT * FROM Titles_2NF;"
   ]
  },
  {
   "cell_type": "code",
   "execution_count": null,
   "metadata": {},
   "outputs": [],
   "source": [
    "%%sql\n",
    "\n",
    "DROP TABLE IF EXISTS Salaries_3NF;\n",
    "DROP TABLE IF EXISTS OccupationBands_3NF;\n",
    "\n",
    "CREATE TABLE Salaries_3NF(\n",
    "    SalaryID INTEGER NOT NULL,\n",
    "    Salary REAL,\n",
    "    BandID INTEGER,\n",
    "    FOREIGN KEY(BandID) REFERENCES OccupationBands (BandID),\n",
    "    PRIMARY KEY(SalaryID AUTOINCREMENT)\n",
    ");\n",
    "\n",
    "CREATE TABLE OccupationBands_3NF (\n",
    "    BandID INTEGER NOT NULL,\n",
    "    OccupationBand VARCHAR,\n",
    "    PRIMARY KEY(BandID AUTOINCREMENT)\n",
    ");"
   ]
  },
  {
   "cell_type": "code",
   "execution_count": null,
   "metadata": {},
   "outputs": [],
   "source": [
    "%%sql\n",
    "\n",
    "DELETE FROM OccupationBands_3NF;\n",
    "DELETE FROM Salaries_3NF;\n",
    "\n",
    "INSERT INTO OccupationBands_3NF (OccupationBand)\n",
    "SELECT DISTINCT \n",
    "    OccupationBand\n",
    "FROM Employees_2NF;\n",
    "\n",
    "INSERT INTO Salaries_3NF (Salary,BandID)\n",
    "SELECT \n",
    "    Salary,\n",
    "    OB.BandID\n",
    "FROM Employees_2NF AS EMP\n",
    "JOIN OccupationBands_3NF AS OB ON OB.OccupationBand = EMP.OccupationBand;"
   ]
  },
  {
   "cell_type": "code",
   "execution_count": null,
   "metadata": {},
   "outputs": [],
   "source": [
    "%%sql\n",
    "DROP TABLE IF EXISTS Employees_3NF;\n",
    "\n",
    "CREATE TABLE Employees_3NF (\n",
    "    EmployeeID INTEGER NOT NULL,\n",
    "    Name VARCHAR,\n",
    "    Surname VARCHAR,\n",
    "    TitleID INTEGER,\n",
    "    SalaryID INTEGER,\n",
    "    FOREIGN KEY(TitleID) REFERENCES Titles_3NF (TitleID)\n",
    "    FOREIGN KEY(SalaryID) REFERENCES Salaries_3NF (SalaryID)\n",
    "    PRIMARY KEY(EmployeeID AUTOINCREMENT)\n",
    ");"
   ]
  },
  {
   "cell_type": "code",
   "execution_count": null,
   "metadata": {},
   "outputs": [],
   "source": [
    "%%sql\n",
    "\n",
    "DELETE FROM Employees_3NF;\n",
    "\n",
    "INSERT INTO Employees_3NF (Name,Surname,TitleID,SalaryID)\n",
    "SELECT \n",
    "    Name,\n",
    "    Surname,\n",
    "    TitleID,\n",
    "    SalaryID\n",
    "FROM Employees_2NF AS EMP\n",
    "JOIN Salaries_3NF AS S ON EMP.Salary = S.Salary;"
   ]
  }
 ],
 "metadata": {
  "kernelspec": {
   "display_name": "Python 3 (ipykernel)",
   "language": "python",
   "name": "python3"
  },
  "language_info": {
   "codemirror_mode": {
    "name": "ipython",
    "version": 3
   },
   "file_extension": ".py",
   "mimetype": "text/x-python",
   "name": "python",
   "nbconvert_exporter": "python",
   "pygments_lexer": "ipython3",
   "version": "3.11.5"
  }
 },
 "nbformat": 4,
 "nbformat_minor": 4
}
