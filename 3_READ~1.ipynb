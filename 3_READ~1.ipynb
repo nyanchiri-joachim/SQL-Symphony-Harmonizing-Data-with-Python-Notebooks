{
 "cells": [
  {
   "cell_type": "markdown",
   "id": "51b1254d",
   "metadata": {},
   "source": [
    "<div align=\"right\" style=\" font-size: 80%; text-align: center; margin: 0 auto\">\n",
    "<img src=\"https://raw.githubusercontent.com/Explore-AI/Pictures/master/ExploreAI_logos/Logo blue_dark.png\"  style=\"width:25px\" align=\"right\";/>\n",
    "</div>"
   ]
  },
  {
   "cell_type": "code",
   "execution_count": 1,
   "id": "2d0d820e",
   "metadata": {},
   "outputs": [],
   "source": [
    "# Load and activate the SQL extension to allow us to execute SQL in a Jupyter notebook.\n",
    "%load_ext sql\n"
   ]
  },
  {
   "cell_type": "code",
   "execution_count": 2,
   "id": "599e3c6c",
   "metadata": {},
   "outputs": [
    {
     "data": {
      "text/plain": [
       "'Connected: @chinook.db'"
      ]
     },
     "execution_count": 2,
     "metadata": {},
     "output_type": "execute_result"
    }
   ],
   "source": [
    "# Load the Chinook database stored in your local machine. \n",
    "# Make sure the file is saved in the same folder as this notebook.\n",
    "%sql sqlite:///chinook.db"
   ]
  },
  {
   "cell_type": "markdown",
   "id": "e3d3c848",
   "metadata": {},
   "source": [
    "<div align=\"center\" style=\" font-size: 80%; text-align: center; margin: 0 auto\">\n",
    "<img src=\"https://github.com/Explore-AI/Pictures/blob/master/sqlite-sample-database-color.jpg?raw=true\"  style=\"width:500px\";/>\n",
    "<br>\n",
    "<br>\n",
    "    <em>Figure 1: Chinook ERD</em>\n",
    "</div>\n"
   ]
  },
  {
   "cell_type": "markdown",
   "id": "653e9dbb",
   "metadata": {},
   "source": [
    "[Image source](https://www.sqlitetutorial.net/sqlite-sample-database/)"
   ]
  },
  {
   "cell_type": "markdown",
   "id": "466e53c1",
   "metadata": {},
   "source": [
    "### 1. Reading data from a single column in a single table in the database."
   ]
  },
  {
   "cell_type": "code",
   "execution_count": 3,
   "id": "038f28ea",
   "metadata": {},
   "outputs": [
    {
     "name": "stdout",
     "output_type": "stream",
     "text": [
      " * sqlite:///chinook.db\n",
      "Done.\n"
     ]
    },
    {
     "data": {
      "text/html": [
       "<table>\n",
       "    <thead>\n",
       "        <tr>\n",
       "            <th>FirstName</th>\n",
       "        </tr>\n",
       "    </thead>\n",
       "    <tbody>\n",
       "        <tr>\n",
       "            <td>Luís</td>\n",
       "        </tr>\n",
       "        <tr>\n",
       "            <td>Leonie</td>\n",
       "        </tr>\n",
       "        <tr>\n",
       "            <td>François</td>\n",
       "        </tr>\n",
       "        <tr>\n",
       "            <td>Bjørn</td>\n",
       "        </tr>\n",
       "        <tr>\n",
       "            <td>František</td>\n",
       "        </tr>\n",
       "        <tr>\n",
       "            <td>Helena</td>\n",
       "        </tr>\n",
       "        <tr>\n",
       "            <td>Astrid</td>\n",
       "        </tr>\n",
       "        <tr>\n",
       "            <td>Daan</td>\n",
       "        </tr>\n",
       "        <tr>\n",
       "            <td>Kara</td>\n",
       "        </tr>\n",
       "        <tr>\n",
       "            <td>Eduardo</td>\n",
       "        </tr>\n",
       "    </tbody>\n",
       "</table>"
      ],
      "text/plain": [
       "[('Luís',),\n",
       " ('Leonie',),\n",
       " ('François',),\n",
       " ('Bjørn',),\n",
       " ('František',),\n",
       " ('Helena',),\n",
       " ('Astrid',),\n",
       " ('Daan',),\n",
       " ('Kara',),\n",
       " ('Eduardo',)]"
      ]
     },
     "execution_count": 3,
     "metadata": {},
     "output_type": "execute_result"
    }
   ],
   "source": [
    "%%sql \n",
    "\n",
    "SELECT FirstName \n",
    "FROM customers\n",
    "LIMIT 10; -- Remove this line to see the full result."
   ]
  },
  {
   "cell_type": "markdown",
   "id": "a5084b12",
   "metadata": {},
   "source": [
    "### 2. Reading data from multiple columns in a single table in the database.\n"
   ]
  },
  {
   "cell_type": "code",
   "execution_count": 4,
   "id": "c968d875",
   "metadata": {
    "scrolled": true
   },
   "outputs": [
    {
     "name": "stdout",
     "output_type": "stream",
     "text": [
      " * sqlite:///chinook.db\n",
      "Done.\n"
     ]
    },
    {
     "data": {
      "text/html": [
       "<table>\n",
       "    <thead>\n",
       "        <tr>\n",
       "            <th>FirstName</th>\n",
       "            <th>LastName</th>\n",
       "            <th>HireDate</th>\n",
       "        </tr>\n",
       "    </thead>\n",
       "    <tbody>\n",
       "        <tr>\n",
       "            <td>Andrew</td>\n",
       "            <td>Adams</td>\n",
       "            <td>2002-08-14 00:00:00</td>\n",
       "        </tr>\n",
       "        <tr>\n",
       "            <td>Nancy</td>\n",
       "            <td>Edwards</td>\n",
       "            <td>2002-05-01 00:00:00</td>\n",
       "        </tr>\n",
       "        <tr>\n",
       "            <td>Jane</td>\n",
       "            <td>Peacock</td>\n",
       "            <td>2002-04-01 00:00:00</td>\n",
       "        </tr>\n",
       "        <tr>\n",
       "            <td>Margaret</td>\n",
       "            <td>Park</td>\n",
       "            <td>2003-05-03 00:00:00</td>\n",
       "        </tr>\n",
       "        <tr>\n",
       "            <td>Steve</td>\n",
       "            <td>Johnson</td>\n",
       "            <td>2003-10-17 00:00:00</td>\n",
       "        </tr>\n",
       "        <tr>\n",
       "            <td>Michael</td>\n",
       "            <td>Mitchell</td>\n",
       "            <td>2003-10-17 00:00:00</td>\n",
       "        </tr>\n",
       "        <tr>\n",
       "            <td>Robert</td>\n",
       "            <td>King</td>\n",
       "            <td>2004-01-02 00:00:00</td>\n",
       "        </tr>\n",
       "        <tr>\n",
       "            <td>Laura</td>\n",
       "            <td>Callahan</td>\n",
       "            <td>2004-03-04 00:00:00</td>\n",
       "        </tr>\n",
       "    </tbody>\n",
       "</table>"
      ],
      "text/plain": [
       "[('Andrew', 'Adams', '2002-08-14 00:00:00'),\n",
       " ('Nancy', 'Edwards', '2002-05-01 00:00:00'),\n",
       " ('Jane', 'Peacock', '2002-04-01 00:00:00'),\n",
       " ('Margaret', 'Park', '2003-05-03 00:00:00'),\n",
       " ('Steve', 'Johnson', '2003-10-17 00:00:00'),\n",
       " ('Michael', 'Mitchell', '2003-10-17 00:00:00'),\n",
       " ('Robert', 'King', '2004-01-02 00:00:00'),\n",
       " ('Laura', 'Callahan', '2004-03-04 00:00:00')]"
      ]
     },
     "execution_count": 4,
     "metadata": {},
     "output_type": "execute_result"
    }
   ],
   "source": [
    "%%sql\n",
    "\n",
    "SELECT FirstName, LastName, HireDate\n",
    "FROM employees;"
   ]
  },
  {
   "cell_type": "markdown",
   "id": "4ce1e7d7",
   "metadata": {},
   "source": [
    "### 3. Reading data from multiple columns in multiple tables in the database."
   ]
  },
  {
   "cell_type": "code",
   "execution_count": 5,
   "id": "6f5614e2",
   "metadata": {},
   "outputs": [
    {
     "name": "stdout",
     "output_type": "stream",
     "text": [
      " * sqlite:///chinook.db\n",
      "Done.\n"
     ]
    },
    {
     "data": {
      "text/html": [
       "<table>\n",
       "    <thead>\n",
       "        <tr>\n",
       "            <th>Title</th>\n",
       "            <th>Name</th>\n",
       "        </tr>\n",
       "    </thead>\n",
       "    <tbody>\n",
       "        <tr>\n",
       "            <td>For Those About To Rock We Salute You</td>\n",
       "            <td>AC/DC</td>\n",
       "        </tr>\n",
       "        <tr>\n",
       "            <td>For Those About To Rock We Salute You</td>\n",
       "            <td>Accept</td>\n",
       "        </tr>\n",
       "        <tr>\n",
       "            <td>For Those About To Rock We Salute You</td>\n",
       "            <td>Aerosmith</td>\n",
       "        </tr>\n",
       "        <tr>\n",
       "            <td>For Those About To Rock We Salute You</td>\n",
       "            <td>Alanis Morissette</td>\n",
       "        </tr>\n",
       "        <tr>\n",
       "            <td>For Those About To Rock We Salute You</td>\n",
       "            <td>Alice In Chains</td>\n",
       "        </tr>\n",
       "        <tr>\n",
       "            <td>For Those About To Rock We Salute You</td>\n",
       "            <td>Antônio Carlos Jobim</td>\n",
       "        </tr>\n",
       "        <tr>\n",
       "            <td>For Those About To Rock We Salute You</td>\n",
       "            <td>Apocalyptica</td>\n",
       "        </tr>\n",
       "        <tr>\n",
       "            <td>For Those About To Rock We Salute You</td>\n",
       "            <td>Audioslave</td>\n",
       "        </tr>\n",
       "        <tr>\n",
       "            <td>For Those About To Rock We Salute You</td>\n",
       "            <td>BackBeat</td>\n",
       "        </tr>\n",
       "        <tr>\n",
       "            <td>For Those About To Rock We Salute You</td>\n",
       "            <td>Billy Cobham</td>\n",
       "        </tr>\n",
       "    </tbody>\n",
       "</table>"
      ],
      "text/plain": [
       "[('For Those About To Rock We Salute You', 'AC/DC'),\n",
       " ('For Those About To Rock We Salute You', 'Accept'),\n",
       " ('For Those About To Rock We Salute You', 'Aerosmith'),\n",
       " ('For Those About To Rock We Salute You', 'Alanis Morissette'),\n",
       " ('For Those About To Rock We Salute You', 'Alice In Chains'),\n",
       " ('For Those About To Rock We Salute You', 'Antônio Carlos Jobim'),\n",
       " ('For Those About To Rock We Salute You', 'Apocalyptica'),\n",
       " ('For Those About To Rock We Salute You', 'Audioslave'),\n",
       " ('For Those About To Rock We Salute You', 'BackBeat'),\n",
       " ('For Those About To Rock We Salute You', 'Billy Cobham')]"
      ]
     },
     "execution_count": 5,
     "metadata": {},
     "output_type": "execute_result"
    }
   ],
   "source": [
    "%%sql\n",
    "\n",
    "SELECT albums.Title, artists.Name\n",
    "FROM albums, artists\n",
    "LIMIT 10; -- Remove this line to see the full result "
   ]
  },
  {
   "cell_type": "code",
   "execution_count": 6,
   "id": "03071e34",
   "metadata": {},
   "outputs": [
    {
     "name": "stdout",
     "output_type": "stream",
     "text": [
      " * sqlite:///chinook.db\n",
      "Done.\n"
     ]
    },
    {
     "data": {
      "text/html": [
       "<table>\n",
       "    <thead>\n",
       "        <tr>\n",
       "            <th>Title</th>\n",
       "            <th>Name</th>\n",
       "        </tr>\n",
       "    </thead>\n",
       "    <tbody>\n",
       "        <tr>\n",
       "            <td>For Those About To Rock We Salute You</td>\n",
       "            <td>AC/DC</td>\n",
       "        </tr>\n",
       "        <tr>\n",
       "            <td>Balls to the Wall</td>\n",
       "            <td>Accept</td>\n",
       "        </tr>\n",
       "        <tr>\n",
       "            <td>Restless and Wild</td>\n",
       "            <td>Accept</td>\n",
       "        </tr>\n",
       "        <tr>\n",
       "            <td>Let There Be Rock</td>\n",
       "            <td>AC/DC</td>\n",
       "        </tr>\n",
       "        <tr>\n",
       "            <td>Big Ones</td>\n",
       "            <td>Aerosmith</td>\n",
       "        </tr>\n",
       "        <tr>\n",
       "            <td>Jagged Little Pill</td>\n",
       "            <td>Alanis Morissette</td>\n",
       "        </tr>\n",
       "        <tr>\n",
       "            <td>Facelift</td>\n",
       "            <td>Alice In Chains</td>\n",
       "        </tr>\n",
       "        <tr>\n",
       "            <td>Warner 25 Anos</td>\n",
       "            <td>Antônio Carlos Jobim</td>\n",
       "        </tr>\n",
       "        <tr>\n",
       "            <td>Plays Metallica By Four Cellos</td>\n",
       "            <td>Apocalyptica</td>\n",
       "        </tr>\n",
       "        <tr>\n",
       "            <td>Audioslave</td>\n",
       "            <td>Audioslave</td>\n",
       "        </tr>\n",
       "    </tbody>\n",
       "</table>"
      ],
      "text/plain": [
       "[('For Those About To Rock We Salute You', 'AC/DC'),\n",
       " ('Balls to the Wall', 'Accept'),\n",
       " ('Restless and Wild', 'Accept'),\n",
       " ('Let There Be Rock', 'AC/DC'),\n",
       " ('Big Ones', 'Aerosmith'),\n",
       " ('Jagged Little Pill', 'Alanis Morissette'),\n",
       " ('Facelift', 'Alice In Chains'),\n",
       " ('Warner 25 Anos', 'Antônio Carlos Jobim'),\n",
       " ('Plays Metallica By Four Cellos', 'Apocalyptica'),\n",
       " ('Audioslave', 'Audioslave')]"
      ]
     },
     "execution_count": 6,
     "metadata": {},
     "output_type": "execute_result"
    }
   ],
   "source": [
    "%%sql\n",
    "\n",
    "SELECT albums.Title, artists.Name\n",
    "FROM albums, artists\n",
    "WHERE artists.Artistid = albums.Artistid\n",
    "LIMIT 10; -- Remove this line to see the full result "
   ]
  }
 ],
 "metadata": {
  "kernelspec": {
   "display_name": "Python 3 (ipykernel)",
   "language": "python",
   "name": "python3"
  },
  "language_info": {
   "codemirror_mode": {
    "name": "ipython",
    "version": 3
   },
   "file_extension": ".py",
   "mimetype": "text/x-python",
   "name": "python",
   "nbconvert_exporter": "python",
   "pygments_lexer": "ipython3",
   "version": "3.11.5"
  }
 },
 "nbformat": 4,
 "nbformat_minor": 5
}
