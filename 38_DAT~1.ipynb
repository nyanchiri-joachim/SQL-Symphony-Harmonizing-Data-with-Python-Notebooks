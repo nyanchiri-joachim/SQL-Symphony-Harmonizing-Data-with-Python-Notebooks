{
 "cells": [
  {
   "cell_type": "markdown",
   "metadata": {},
   "source": [
    "### Data_anomalies_2NF_Exercise"
   ]
  },
  {
   "cell_type": "code",
   "execution_count": 1,
   "metadata": {},
   "outputs": [],
   "source": [
    "# Load and activate the SQL extension to allow us to execute SQL in a Jupyter notebook.\n",
    "%load_ext sql"
   ]
  },
  {
   "cell_type": "code",
   "execution_count": 2,
   "metadata": {},
   "outputs": [
    {
     "data": {
      "text/plain": [
       "'Connected: @SoftDevEmployees.db'"
      ]
     },
     "execution_count": 2,
     "metadata": {},
     "output_type": "execute_result"
    }
   ],
   "source": [
    "## Load the SoftDevEmployees database stored in your local machine. \n",
    "# Make sure the file is saved in the same folder as this notebook.\n",
    "%sql sqlite:///SoftDevEmployees.db"
   ]
  },
  {
   "cell_type": "code",
   "execution_count": null,
   "metadata": {},
   "outputs": [],
   "source": [
    "%%sql\n",
    "\n",
    "DROP TABLE IF EXISTS Employees_2NF;\n",
    "DROP TABLE IF EXISTS Titles_2NF;\n",
    "DROP TABLE IF EXISTS Roles_2NF;\n",
    "DROP TABLE IF EXISTS Departments_2NF;\n",
    "DROP TABLE IF EXISTS Employee_Department_2NF;\n",
    "DROP TABLE IF EXISTS Employee_Role_2NF;\n",
    "\n",
    "CREATE TABLE Titles_2NF (\n",
    "    TitleID INTEGER NOT NULL,\n",
    "    Title VARCHAR,\n",
    "    PRIMARY KEY(TitleID AUTOINCREMENT)\n",
    ");\n",
    "\n",
    "CREATE TABLE Roles_2NF (\n",
    "    RoleID INTEGER NOT NULL,\n",
    "    Role VARCHAR,\n",
    "    PRIMARY KEY(RoleID AUTOINCREMENT)\n",
    ");\n",
    "\n",
    "CREATE TABLE  Departments_2NF (\n",
    "    DepartmentID INTEGER NOT NULL,\n",
    "    Department VARCHAR,\n",
    "    PRIMARY KEY(DepartmentID AUTOINCREMENT)\n",
    ");\n",
    "\n",
    "CREATE TABLE Employees_2NF (\n",
    "    EmployeeID INTEGER NOT NULL,\n",
    "    Name VARCHAR, \n",
    "    Surname VARCHAR,\n",
    "    Salary REAL,\n",
    "    OccupationBand VARCHAR,\n",
    "    TitleID INTEGER,\n",
    "    FOREIGN KEY(TitleID) REFERENCES Titles_2NF (TitleID), \n",
    "    PRIMARY KEY(EmployeeID AUTOINCREMENT)\n",
    ");\n",
    "\n",
    "\n",
    "CREATE TABLE Employee_Role_2NF(\n",
    "    EmployeeID INTEGER NOT NULL,\n",
    "    RoleID INTEGER NOT NULL,\n",
    "    FOREIGN KEY (EmployeeID) REFERENCES Employees_2NF (EmployeeID),\n",
    "    FOREIGN KEY (RoleID) REFERENCES Roles_2NF (RoleID),\n",
    "    PRIMARY KEY(EmployeeID, RoleID)\n",
    ");\n",
    "\n",
    "CREATE TABLE Employee_Department_2NF(\n",
    "    EmployeeID INTEGER NOT NULL,\n",
    "    DepartmentID INTEGER NOT NULL,\n",
    "    FOREIGN KEY (EmployeeID) REFERENCES Employees_2NF (EmployeeID),\n",
    "    FOREIGN KEY (DepartmentID) REFERENCES Departments_2NF (DepartmentID),\n",
    "    PRIMARY KEY(EmployeeID, DepartmentID)\n",
    ");"
   ]
  },
  {
   "cell_type": "markdown",
   "metadata": {},
   "source": [
    "#### Populate the `Titles_2NF, Roles_2NF`, and `Departments_2NF` tables"
   ]
  },
  {
   "cell_type": "code",
   "execution_count": null,
   "metadata": {},
   "outputs": [],
   "source": [
    "%%sql\n",
    "DELETE FROM Titles_2NF;\n",
    "DELETE FROM Roles_2NF;\n",
    "DELETE FROM Departments_2NF;\n",
    "\n",
    "INSERT INTO Titles_2NF (Title)\n",
    "SELECT \n",
    "    DISTINCT Title \n",
    "FROM Employees_1NF \n",
    "WHERE Title <> '';\n",
    "\n",
    "INSERT INTO Roles_2NF (Role) \n",
    "SELECT \n",
    "    DISTINCT Role\n",
    "FROM Employees_1NF\n",
    "WHERE Role <>'';\n",
    "\n",
    "INSERT INTO Departments_2NF (Department)\n",
    "SELECT\n",
    "    DISTINCT Department\n",
    "FROM Employees_1NF\n",
    "WHERE Department <>'';"
   ]
  },
  {
   "cell_type": "markdown",
   "metadata": {},
   "source": [
    "####  Populate the `Employees_2NF` table"
   ]
  },
  {
   "cell_type": "code",
   "execution_count": null,
   "metadata": {},
   "outputs": [],
   "source": [
    "%%sql\n",
    "DELETE FROM Employees_2NF;\n",
    "\n",
    "INSERT INTO Employees_2NF (Name, Surname, Salary, OccupationBand, TitleID)\n",
    "SELECT DISTINCT\n",
    "    EMP.Name,\n",
    "    EMP.Surname,\n",
    "    EMP.Salary,\n",
    "    EMP.OccupationBand,\n",
    "    T.TitleID\n",
    "FROM \n",
    "    Employees_1NF AS EMP\n",
    "JOIN \n",
    "    Titles_2NF AS T \n",
    "    ON T.Title = EMP.Title;"
   ]
  },
  {
   "cell_type": "markdown",
   "metadata": {},
   "source": [
    "####  Populate the `Employee_Department_2NF` and `Employee_Role_2NF` tables"
   ]
  },
  {
   "cell_type": "code",
   "execution_count": null,
   "metadata": {},
   "outputs": [],
   "source": [
    "%%sql\n",
    "DELETE FROM Employee_Department_2NF;\n",
    "DELETE FROM Employee_Role_2NF;\n",
    "\n",
    "INSERT INTO Employee_Department_2NF (EmployeeID,DepartmentID)\n",
    "SELECT DISTINCT\n",
    "    EMP2.EmployeeID,\n",
    "    DPT.DepartmentID\n",
    "FROM \n",
    "    Employees_1NF AS EMP1\n",
    "JOIN \n",
    "    Employees_2NF AS EMP2 \n",
    "    ON EMP1.Name = EMP2.Name AND EMP1.Surname = EMP2.Surname\n",
    "JOIN \n",
    "    Departments_2NF AS DPT \n",
    "    ON EMP1.Department = DPT.Department;\n",
    "    \n",
    "\n",
    "INSERT INTO Employee_Role_2NF (EmployeeID,RoleID)\n",
    "SELECT DISTINCT\n",
    "    EMP2.EmployeeID,\n",
    "    R.RoleID\n",
    "FROM \n",
    "    Employees_1NF AS EMP1\n",
    "JOIN \n",
    "    Employees_2NF AS EMP2 \n",
    "    ON EMP1.Name = EMP2.Name AND EMP1.Surname = EMP2.Surname\n",
    "JOIN \n",
    "    Roles_2NF AS R \n",
    "    ON EMP1.Role = R.Role"
   ]
  }
 ],
 "metadata": {
  "kernelspec": {
   "display_name": "Python 3 (ipykernel)",
   "language": "python",
   "name": "python3"
  },
  "language_info": {
   "codemirror_mode": {
    "name": "ipython",
    "version": 3
   },
   "file_extension": ".py",
   "mimetype": "text/x-python",
   "name": "python",
   "nbconvert_exporter": "python",
   "pygments_lexer": "ipython3",
   "version": "3.11.5"
  }
 },
 "nbformat": 4,
 "nbformat_minor": 4
}
