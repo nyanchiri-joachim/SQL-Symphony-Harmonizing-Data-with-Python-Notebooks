{
 "cells": [
  {
   "cell_type": "markdown",
   "id": "f662d169",
   "metadata": {},
   "source": [
    "### Union"
   ]
  },
  {
   "cell_type": "code",
   "execution_count": 1,
   "id": "0f34ea72",
   "metadata": {},
   "outputs": [
    {
     "data": {
      "text/plain": [
       "'Connected: @chinook.db'"
      ]
     },
     "execution_count": 1,
     "metadata": {},
     "output_type": "execute_result"
    }
   ],
   "source": [
    "# Load and activate the SQL extension to allow us to execute SQL in a Jupyter notebook.\n",
    "%load_ext sql\n",
    "\n",
    "# Establish a connection to a SQLite database file.\n",
    "%sql sqlite:///chinook.db"
   ]
  },
  {
   "cell_type": "code",
   "execution_count": 2,
   "id": "c968d875",
   "metadata": {},
   "outputs": [
    {
     "name": "stdout",
     "output_type": "stream",
     "text": [
      " * sqlite:///chinook.db\n",
      "Done.\n"
     ]
    },
    {
     "data": {
      "text/html": [
       "<table>\n",
       "    <thead>\n",
       "        <tr>\n",
       "            <th>AlbumId</th>\n",
       "            <th>Name</th>\n",
       "            <th>Category</th>\n",
       "        </tr>\n",
       "    </thead>\n",
       "    <tbody>\n",
       "        <tr>\n",
       "            <td>1</td>\n",
       "            <td>Breaking The Rules</td>\n",
       "            <td>Artist</td>\n",
       "        </tr>\n",
       "        <tr>\n",
       "            <td>1</td>\n",
       "            <td>C.O.D.</td>\n",
       "            <td>Artist</td>\n",
       "        </tr>\n",
       "        <tr>\n",
       "            <td>1</td>\n",
       "            <td>Evil Walks</td>\n",
       "            <td>Artist</td>\n",
       "        </tr>\n",
       "        <tr>\n",
       "            <td>1</td>\n",
       "            <td>For Those About To Rock (We Salute You)</td>\n",
       "            <td>Artist</td>\n",
       "        </tr>\n",
       "        <tr>\n",
       "            <td>1</td>\n",
       "            <td>For Those About To Rock We Salute You</td>\n",
       "            <td>Album</td>\n",
       "        </tr>\n",
       "        <tr>\n",
       "            <td>1</td>\n",
       "            <td>Inject The Venom</td>\n",
       "            <td>Artist</td>\n",
       "        </tr>\n",
       "        <tr>\n",
       "            <td>1</td>\n",
       "            <td>Let&#x27;s Get It Up</td>\n",
       "            <td>Artist</td>\n",
       "        </tr>\n",
       "        <tr>\n",
       "            <td>1</td>\n",
       "            <td>Night Of The Long Knives</td>\n",
       "            <td>Artist</td>\n",
       "        </tr>\n",
       "        <tr>\n",
       "            <td>1</td>\n",
       "            <td>Put The Finger On You</td>\n",
       "            <td>Artist</td>\n",
       "        </tr>\n",
       "        <tr>\n",
       "            <td>1</td>\n",
       "            <td>Snowballed</td>\n",
       "            <td>Artist</td>\n",
       "        </tr>\n",
       "    </tbody>\n",
       "</table>"
      ],
      "text/plain": [
       "[(1, 'Breaking The Rules', 'Artist'),\n",
       " (1, 'C.O.D.', 'Artist'),\n",
       " (1, 'Evil Walks', 'Artist'),\n",
       " (1, 'For Those About To Rock (We Salute You)', 'Artist'),\n",
       " (1, 'For Those About To Rock We Salute You', 'Album'),\n",
       " (1, 'Inject The Venom', 'Artist'),\n",
       " (1, \"Let's Get It Up\", 'Artist'),\n",
       " (1, 'Night Of The Long Knives', 'Artist'),\n",
       " (1, 'Put The Finger On You', 'Artist'),\n",
       " (1, 'Snowballed', 'Artist')]"
      ]
     },
     "execution_count": 2,
     "metadata": {},
     "output_type": "execute_result"
    }
   ],
   "source": [
    "%%sql\n",
    "\n",
    "SELECT t.AlbumId, t.Name, \"Artist\" AS \"Category\"\n",
    "FROM tracks AS t\n",
    "\n",
    "UNION\n",
    "\n",
    "SELECT a.AlbumId, a.Title, \"Album\" AS \"Category\"\n",
    "FROM albums AS a\n",
    "\n",
    "LIMIT 10;  -- Remove this line to see the full query output"
   ]
  },
  {
   "cell_type": "code",
   "execution_count": 3,
   "id": "03071e34",
   "metadata": {},
   "outputs": [
    {
     "name": "stdout",
     "output_type": "stream",
     "text": [
      " * sqlite:///chinook.db\n",
      "Done.\n"
     ]
    },
    {
     "data": {
      "text/html": [
       "<table>\n",
       "    <thead>\n",
       "        <tr>\n",
       "            <th>Name</th>\n",
       "            <th>Title</th>\n",
       "        </tr>\n",
       "    </thead>\n",
       "    <tbody>\n",
       "        <tr>\n",
       "            <td>AC/DC</td>\n",
       "            <td>None</td>\n",
       "        </tr>\n",
       "        <tr>\n",
       "            <td>Accept</td>\n",
       "            <td>None</td>\n",
       "        </tr>\n",
       "        <tr>\n",
       "            <td>Aerosmith</td>\n",
       "            <td>None</td>\n",
       "        </tr>\n",
       "        <tr>\n",
       "            <td>Alanis Morissette</td>\n",
       "            <td>None</td>\n",
       "        </tr>\n",
       "        <tr>\n",
       "            <td>Alice In Chains</td>\n",
       "            <td>None</td>\n",
       "        </tr>\n",
       "        <tr>\n",
       "            <td>Antônio Carlos Jobim</td>\n",
       "            <td>None</td>\n",
       "        </tr>\n",
       "        <tr>\n",
       "            <td>Apocalyptica</td>\n",
       "            <td>None</td>\n",
       "        </tr>\n",
       "        <tr>\n",
       "            <td>Audioslave</td>\n",
       "            <td>Audioslave</td>\n",
       "        </tr>\n",
       "        <tr>\n",
       "            <td>BackBeat</td>\n",
       "            <td>None</td>\n",
       "        </tr>\n",
       "        <tr>\n",
       "            <td>Billy Cobham</td>\n",
       "            <td>None</td>\n",
       "        </tr>\n",
       "    </tbody>\n",
       "</table>"
      ],
      "text/plain": [
       "[('AC/DC', None),\n",
       " ('Accept', None),\n",
       " ('Aerosmith', None),\n",
       " ('Alanis Morissette', None),\n",
       " ('Alice In Chains', None),\n",
       " ('Antônio Carlos Jobim', None),\n",
       " ('Apocalyptica', None),\n",
       " ('Audioslave', 'Audioslave'),\n",
       " ('BackBeat', None),\n",
       " ('Billy Cobham', None)]"
      ]
     },
     "execution_count": 3,
     "metadata": {},
     "output_type": "execute_result"
    }
   ],
   "source": [
    "%%sql\n",
    "\n",
    "SELECT \n",
    "    ar.Name, \n",
    "    a.Title\n",
    "FROM \n",
    "    artists ar\n",
    "LEFT JOIN \n",
    "    albums AS a\n",
    "    ON ar.Name = a.Title\n",
    "\n",
    "UNION ALL\n",
    "\n",
    "SELECT \n",
    "    ar.Name, \n",
    "    a.Title\n",
    "FROM \n",
    "    albums AS a\n",
    "LEFT JOIN \n",
    "    artists AS ar\n",
    "    ON ar.Name = a.Title\n",
    "\n",
    "LIMIT 10;  -- Remove this line to see the full query output"
   ]
  }
 ],
 "metadata": {
  "kernelspec": {
   "display_name": "Python 3 (ipykernel)",
   "language": "python",
   "name": "python3"
  },
  "language_info": {
   "codemirror_mode": {
    "name": "ipython",
    "version": 3
   },
   "file_extension": ".py",
   "mimetype": "text/x-python",
   "name": "python",
   "nbconvert_exporter": "python",
   "pygments_lexer": "ipython3",
   "version": "3.11.5"
  }
 },
 "nbformat": 4,
 "nbformat_minor": 5
}
